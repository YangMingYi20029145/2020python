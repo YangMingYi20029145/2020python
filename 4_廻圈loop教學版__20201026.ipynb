{
  "nbformat": 4,
  "nbformat_minor": 0,
  "metadata": {
    "colab": {
      "name": "4_廻圈loop教學版_ 20201026.ipynb",
      "provenance": [],
      "collapsed_sections": [],
      "include_colab_link": true
    },
    "kernelspec": {
      "name": "python3",
      "display_name": "Python 3"
    }
  },
  "cells": [
    {
      "cell_type": "markdown",
      "metadata": {
        "id": "view-in-github",
        "colab_type": "text"
      },
      "source": [
        "<a href=\"https://colab.research.google.com/github/YangMingYi20029145/2020python/blob/main/4_%E5%BB%BB%E5%9C%88loop%E6%95%99%E5%AD%B8%E7%89%88__20201026.ipynb\" target=\"_parent\"><img src=\"https://colab.research.google.com/assets/colab-badge.svg\" alt=\"Open In Colab\"/></a>"
      ]
    },
    {
      "cell_type": "markdown",
      "metadata": {
        "id": "e2h0oGIHezSa"
      },
      "source": [
        "# 4_廻圈loop\n",
        "\n",
        "## 課程目標：\n",
        "```\n",
        "[1].使用range 函式 的功能建立整數循序數列\n",
        "\n",
        "[2].使用for 廻圈 執行固定次數的廻圈運算(通常)\n",
        "[3].使用while 廻圈執行沒有固定次數的廻圈運算\n",
        "\n",
        "[4].continue 指令 \n",
        "  是在廻圈執行中途暫時停住不往下執行，而跳到廻圈的起始處執行\n",
        "[5].break 指令:可在廻圈執行中途強迫跳離廻圈，跳到廻圈後面的程式繼續執行。\n",
        "\n",
        "[6].廻圈中又包含廻圈的巢狀廻圈(Nested Loop)　===>設計九九乘法表\n",
        "```\n",
        "```\n",
        "PS:Python沒有do… while 廻圈\n",
        "你自己實作一個吧?!!\n",
        "```"
      ]
    },
    {
      "cell_type": "markdown",
      "metadata": {
        "id": "3HJ3ouzrXvxd"
      },
      "source": [
        "\n",
        "# 1.range() 函式\n",
        "```\n",
        " 使用range 函式 的建立整數循序數列\n",
        " \n",
        "變數1 = range(整數值)\n",
        "變數2 = range(起始值, 終止值)\n",
        "變數3 = range(起始值, 終止值, 多少間隔)\n",
        "```\n",
        "### 變數1 = range(整數值)\n",
        "\n",
        "底下程式執行後結果為何?\n",
        "```\n",
        "list1=range(10)\n",
        "print(list1)\n",
        "\n",
        "print(list(list1))\n",
        "```"
      ]
    },
    {
      "cell_type": "code",
      "metadata": {
        "id": "w7TAiSRFlKiz",
        "colab": {
          "base_uri": "https://localhost:8080/",
          "height": 35
        },
        "outputId": "fdaeec38-b31a-4e96-ac42-20d74245ec51"
      },
      "source": [
        "list1=range(10)\n",
        "print(list1)"
      ],
      "execution_count": null,
      "outputs": [
        {
          "output_type": "stream",
          "text": [
            "range(0, 10)\n"
          ],
          "name": "stdout"
        }
      ]
    },
    {
      "cell_type": "code",
      "metadata": {
        "id": "PdJqyyFHlPmH",
        "colab": {
          "base_uri": "https://localhost:8080/",
          "height": 35
        },
        "outputId": "06faa55f-2a68-4686-8b6a-13aba14d8bff"
      },
      "source": [
        "print(list(list1))"
      ],
      "execution_count": null,
      "outputs": [
        {
          "output_type": "stream",
          "text": [
            "[0, 1, 2, 3, 4, 5, 6, 7, 8, 9]\n"
          ],
          "name": "stdout"
        }
      ]
    },
    {
      "cell_type": "markdown",
      "metadata": {
        "id": "4vp4Bukue2Vf"
      },
      "source": [
        "### 變數2 = range(起始值, 終止值)\n",
        "\n",
        "底下程式執行後結果為何?\n",
        "```\n",
        "list2=range(-4,5)\n",
        "print(list(list2))\n",
        "```"
      ]
    },
    {
      "cell_type": "code",
      "metadata": {
        "id": "FXj-piZDtj_v",
        "colab": {
          "base_uri": "https://localhost:8080/"
        },
        "outputId": "89fa20bc-8ed0-4cc1-a2aa-190a5f87fbf8"
      },
      "source": [
        "list2=range(-4,5)\n",
        "print(list(list2))"
      ],
      "execution_count": null,
      "outputs": [
        {
          "output_type": "stream",
          "text": [
            "[-4, -3, -2, -1, 0, 1, 2, 3, 4]\n"
          ],
          "name": "stdout"
        }
      ]
    },
    {
      "cell_type": "markdown",
      "metadata": {
        "id": "0vLZKwq4e4nF"
      },
      "source": [
        "### 變數3 = range(起始值, 終止值, 多少間隔)\n",
        "\n",
        "底下程式執行後結果為何?\n",
        "```\n",
        "list3=range(-4,5,2)\n",
        "print(list(list3))\n",
        "```"
      ]
    },
    {
      "cell_type": "code",
      "metadata": {
        "id": "ovVxSn0otqn8",
        "colab": {
          "base_uri": "https://localhost:8080/"
        },
        "outputId": "dd17a255-826f-4ee8-ee08-a8124d49a9ed"
      },
      "source": [
        "list3=range(-4,5,2)\n",
        "print(list(list3))"
      ],
      "execution_count": null,
      "outputs": [
        {
          "output_type": "stream",
          "text": [
            "[-4, -2, 0, 2, 4]\n"
          ],
          "name": "stdout"
        }
      ]
    },
    {
      "cell_type": "markdown",
      "metadata": {
        "id": "4NhGp8bDe7jk"
      },
      "source": [
        "底下程式執行後結果為何?\n",
        "```\n",
        "list4=range(-4,6,2)\n",
        "print(list(list4))\n",
        "```"
      ]
    },
    {
      "cell_type": "code",
      "metadata": {
        "id": "W6sCMHKRhKKF",
        "colab": {
          "base_uri": "https://localhost:8080/",
          "height": 34
        },
        "outputId": "71ec8c81-4c2f-44bb-d0ac-1e3b65aba46f"
      },
      "source": [
        "list4=range(-4,6,2)\n",
        "print(list(list4))"
      ],
      "execution_count": null,
      "outputs": [
        {
          "output_type": "stream",
          "text": [
            "[-4, -2, 0, 2, 4]\n"
          ],
          "name": "stdout"
        }
      ]
    },
    {
      "cell_type": "markdown",
      "metadata": {
        "id": "MpBknYloe91x"
      },
      "source": [
        "# [2]for 廻圈 \n",
        "```\n",
        "使用for 廻圈 執行固定次數的廻圈運算(通常)\n",
        "```\n",
        "底下程式執行後結果為何?\n",
        "```\n",
        "for n in range(5):\n",
        "  print(n)\n",
        "```"
      ]
    },
    {
      "cell_type": "markdown",
      "metadata": {
        "id": "wV5Lu7kqX_hg"
      },
      "source": [
        "續上題:\n",
        "```\n",
        "要如何輸出 0 1 2 3 4\n",
        "而不是\n",
        "0\n",
        "1\n",
        "2\n",
        "3\n",
        "4\n",
        "```"
      ]
    },
    {
      "cell_type": "markdown",
      "metadata": {
        "id": "4PyNqd2ge__o"
      },
      "source": [
        "底下程式執行後結果為何?\n",
        "```\n",
        "for n in range(10):\n",
        "    print(n, end='@')\n",
        "\n",
        "    #print(n, end='%%%%')\n",
        "```"
      ]
    },
    {
      "cell_type": "code",
      "metadata": {
        "id": "l8JseZ1mtyx1",
        "colab": {
          "base_uri": "https://localhost:8080/"
        },
        "outputId": "a2ed0949-dc10-4866-bd18-67ee6b27218e"
      },
      "source": [
        "for n in range(10):\n",
        "    print(n, end=' ')"
      ],
      "execution_count": null,
      "outputs": [
        {
          "output_type": "stream",
          "text": [
            "0 1 2 3 4 5 6 7 8 9 "
          ],
          "name": "stdout"
        }
      ]
    },
    {
      "cell_type": "markdown",
      "metadata": {
        "id": "ywXkVIIqfCSX"
      },
      "source": [
        "底下程式執行後結果為何?\n",
        "```\n",
        "mysum = 0\n",
        "\n",
        "for n in range(5):\n",
        "  mysum += n\n",
        "  print(mysum)\n",
        "```"
      ]
    },
    {
      "cell_type": "code",
      "metadata": {
        "id": "IZbB67P1t3XT",
        "colab": {
          "base_uri": "https://localhost:8080/"
        },
        "outputId": "84d45742-fb23-4b9a-d132-a5e354ab82e5"
      },
      "source": [
        "mysum = 0\n",
        " \n",
        "for n in range(5):\n",
        "  mysum += n\n",
        "  print(mysum, end=' ')"
      ],
      "execution_count": null,
      "outputs": [
        {
          "output_type": "stream",
          "text": [
            "0 1 3 6 10 "
          ],
          "name": "stdout"
        }
      ]
    },
    {
      "cell_type": "markdown",
      "metadata": {
        "id": "NHNaJOl6fEwN"
      },
      "source": [
        "底下程式執行後結果為何?\n",
        "```\n",
        "mysum = 0\n",
        "\n",
        "for n in range(5):\n",
        "  mysum += n\n",
        "\n",
        "print(mysum)\n",
        "```"
      ]
    },
    {
      "cell_type": "code",
      "metadata": {
        "id": "D_df8A1fuAvZ",
        "colab": {
          "base_uri": "https://localhost:8080/"
        },
        "outputId": "2ad4326f-0d03-4211-8b04-c50de65a72a9"
      },
      "source": [
        "mysum = 0\n",
        " \n",
        "for n in range(5):\n",
        "  mysum += n\n",
        " \n",
        "print(mysum)"
      ],
      "execution_count": null,
      "outputs": [
        {
          "output_type": "stream",
          "text": [
            "10\n"
          ],
          "name": "stdout"
        }
      ]
    },
    {
      "cell_type": "markdown",
      "metadata": {
        "id": "jqcI-wsBY93E"
      },
      "source": [
        "## [程式閱讀題]\n",
        "\n",
        "執行下列程式並說明其結果\n",
        "```\n",
        "x = int(input(\"請輸入一個正整數:\"))\n",
        "my_result = 1\n",
        " \n",
        "for n in range(x):\n",
        "  my_result *= n\n",
        " \n",
        "print(my_result)\n",
        "```"
      ]
    },
    {
      "cell_type": "code",
      "metadata": {
        "id": "xnGa5HCruFpR",
        "colab": {
          "base_uri": "https://localhost:8080/"
        },
        "outputId": "08ba5f5c-0ab0-476f-e468-9e2efe8f4823"
      },
      "source": [
        "x = int(input(\"請輸入一個正整數:\"))\n",
        "my_result = 1\n",
        " \n",
        "for n in range(x):\n",
        "  my_result *= n\n",
        " \n",
        "print(my_result)"
      ],
      "execution_count": null,
      "outputs": [
        {
          "output_type": "stream",
          "text": [
            "請輸入一個正整數:5\n",
            "0\n"
          ],
          "name": "stdout"
        }
      ]
    },
    {
      "cell_type": "markdown",
      "metadata": {
        "id": "DTeu-MweD7oZ"
      },
      "source": [
        "執行下列程式並說明其結果\n",
        "```\n",
        "x = int(input(\"請輸入一個正整數:\"))\n",
        "my_result = 1\n",
        "\n",
        "for n in range(1,x+1):\n",
        "  my_result *= n\n",
        "\n",
        "print(my_result)\n",
        "```"
      ]
    },
    {
      "cell_type": "code",
      "metadata": {
        "id": "da_euvFiuaZJ",
        "colab": {
          "base_uri": "https://localhost:8080/"
        },
        "outputId": "ba7546bd-0ccb-4b72-9a5f-f08e7c6802bb"
      },
      "source": [
        "x = int(input(\"請輸入一個正整數:\"))\n",
        "my_result = 1\n",
        " \n",
        "for n in range(1,x+1):\n",
        "  my_result *= n\n",
        " \n",
        "print(my_result)"
      ],
      "execution_count": null,
      "outputs": [
        {
          "output_type": "stream",
          "text": [
            "請輸入一個正整數:5\n",
            "120\n"
          ],
          "name": "stdout"
        }
      ]
    },
    {
      "cell_type": "markdown",
      "metadata": {
        "id": "ZOTul6c4fGr9"
      },
      "source": [
        "底下程式執行後結果為何?\n",
        "```\n",
        "x = int(input(\"請輸入一個正整數:\"))\n",
        "mysum = 0\n",
        "\n",
        "for n in range(x):\n",
        "  mysum += n\n",
        "\n",
        "print(mysum)\n",
        "```"
      ]
    },
    {
      "cell_type": "code",
      "metadata": {
        "id": "GxT3B-yfudYx",
        "colab": {
          "base_uri": "https://localhost:8080/"
        },
        "outputId": "ffda0b15-b971-46b1-fa18-8341adae4e4b"
      },
      "source": [
        "x = int(input(\"請輸入一個正整數:\"))\n",
        "mysum = 0\n",
        " \n",
        "for n in range(x):\n",
        "  mysum += n\n",
        " \n",
        "print(mysum)"
      ],
      "execution_count": null,
      "outputs": [
        {
          "output_type": "stream",
          "text": [
            "請輸入一個正整數:5\n",
            "10\n"
          ],
          "name": "stdout"
        }
      ]
    },
    {
      "cell_type": "markdown",
      "metadata": {
        "id": "KLo5Uf0pEFTJ"
      },
      "source": [
        "底下程式執行後結果為何?\n",
        "```\n",
        "x = int(input(\"請輸入一個正整數:\"))\n",
        "mysum = 0\n",
        " \n",
        "for n in range(x+1):\n",
        "  mysum += n\n",
        " \n",
        "print(mysum)\n",
        "```"
      ]
    },
    {
      "cell_type": "code",
      "metadata": {
        "id": "3mt6SUwXuis8",
        "colab": {
          "base_uri": "https://localhost:8080/"
        },
        "outputId": "8034284f-27b8-4ad1-b965-8650f49f75f7"
      },
      "source": [
        "x = int(input(\"請輸入一個正整數:\"))\n",
        "mysum = 0\n",
        " \n",
        "for n in range(x+1):\n",
        "  mysum += n\n",
        " \n",
        "print(mysum)"
      ],
      "execution_count": null,
      "outputs": [
        {
          "output_type": "stream",
          "text": [
            "請輸入一個正整數:5\n",
            "15\n"
          ],
          "name": "stdout"
        }
      ]
    },
    {
      "cell_type": "markdown",
      "metadata": {
        "id": "b3zTqDOOfJdT"
      },
      "source": [
        "底下程式執行後結果為何?\n",
        "```\n",
        "\n",
        "numbers = [21, 4, 35, 1, 8, 7, 3, 6, 9]\n",
        "my_numbers = []\n",
        "\n",
        "for number in numbers:\n",
        "  if (number % 2 != 0): \n",
        "    my_numbers.append(number)\n",
        "\n",
        "print(my_numbers)\n",
        "```"
      ]
    },
    {
      "cell_type": "code",
      "metadata": {
        "id": "wgjAvGUZul8k",
        "colab": {
          "base_uri": "https://localhost:8080/"
        },
        "outputId": "5ef44a17-02e9-4fcb-ebd7-76ea3ef12477"
      },
      "source": [
        "numbers = [21, 4, 35, 1, 8, 7, 3, 6, 9]\n",
        "my_numbers = []\n",
        " \n",
        "for number in numbers:\n",
        "  if (number % 2 != 0): \n",
        "    my_numbers.append(number)\n",
        " \n",
        "print(my_numbers)"
      ],
      "execution_count": null,
      "outputs": [
        {
          "output_type": "stream",
          "text": [
            "[21, 35, 1, 7, 3, 9]\n"
          ],
          "name": "stdout"
        }
      ]
    },
    {
      "cell_type": "markdown",
      "metadata": {
        "id": "fkiX1kJjfOWe"
      },
      "source": [
        "### [程式閱讀題]\n",
        "上述程式如果第五行改成  if (number % 2 = 0):答案會是甚麼??"
      ]
    },
    {
      "cell_type": "code",
      "metadata": {
        "id": "-i0Bcxg_hlbq",
        "colab": {
          "base_uri": "https://localhost:8080/",
          "height": 34
        },
        "outputId": "742b4d67-f07e-4d18-b6eb-3a31cd6724cb"
      },
      "source": [
        "numbers = [21, 4, 35, 1, 8, 7, 3, 6, 9]\n",
        "my_numbers = []\n",
        " \n",
        "for number in numbers:\n",
        "  if (number % 2 == 0): \n",
        "    my_numbers.append(number)\n",
        " \n",
        "print(my_numbers)"
      ],
      "execution_count": null,
      "outputs": [
        {
          "output_type": "stream",
          "text": [
            "[4, 8, 6]\n"
          ],
          "name": "stdout"
        }
      ]
    },
    {
      "cell_type": "markdown",
      "metadata": {
        "id": "4GnsMv0pfSbH"
      },
      "source": [
        "# [3]While Loop\n",
        "```\n",
        "### n階程的計算:n!=1*2*3*⋯*n\n",
        "1!　=　１\n",
        "2!　=　1*2　=　2\n",
        "3!　=　1*2*3　=　6\n",
        "```\n",
        "```\n",
        "輸入::一個正整數 n\n",
        "輸出::n!\n",
        "\n",
        "當使用者輸入一個正整數 n 後，程式就會顯示\n",
        "1*2*3*...*n 的乘積\n",
        "```\n",
        "```\n",
        "請使用 while loop設計這個程式\n",
        "```\n",
        "```\n",
        "total = i = 1\n",
        "\n",
        "n = int(input(\"請輸入正整數 n 的值：\"))\n",
        "\n",
        "while(i<=n):\n",
        "    total *= i  \n",
        "    i+=1      \n",
        "\n",
        "print(\"%d!=%d\" % (n, total))\n",
        "```"
      ]
    },
    {
      "cell_type": "code",
      "metadata": {
        "id": "-WulM-RIuubs",
        "colab": {
          "base_uri": "https://localhost:8080/"
        },
        "outputId": "7244735d-263c-416a-c038-fe85294a2568"
      },
      "source": [
        "total = i = 1\n",
        " \n",
        "n = int(input(\"請輸入正整數 n 的值：\"))\n",
        " \n",
        "while(i<=n):\n",
        "    total *= i  \n",
        "    i+=1      \n",
        " \n",
        "print(\"%d!=%d\" % (n, total))\n"
      ],
      "execution_count": null,
      "outputs": [
        {
          "output_type": "stream",
          "text": [
            "請輸入正整數 n 的值：5\n",
            "5!=120\n"
          ],
          "name": "stdout"
        }
      ]
    },
    {
      "cell_type": "markdown",
      "metadata": {
        "id": "Mov9GOnvfXZZ"
      },
      "source": [
        "# [4]break 指令\n",
        "```\n",
        "可在廻圈執行中途強迫跳離廻圈，跳到廻圈後面的程式繼續執行。\n",
        "```\n",
        "底下程式執行後結果為何?\n",
        "```\n",
        "fruits = [\"香蕉\",\"蘋果\",\"橘子\",\"鳳梨\",\"西瓜\"]\n",
        "\n",
        "while True:\n",
        "    fruit = input(\"請輸入喜歡的水果(Enter 結束)：\")\n",
        "\n",
        "  #  if (fruit==\"\"):\n",
        "  #      break\n",
        "\n",
        "    n = fruits.count(fruit) \n",
        "    if (n>0):  # 串列元素存在\n",
        "        p=fruits.index(fruit)\n",
        "        print(\"%s 在串列中的第 %d 項\" %(fruit,p+1))\n",
        "    else:\n",
        "        print(fruit,\"不在串列中!\")\n",
        "```"
      ]
    },
    {
      "cell_type": "code",
      "metadata": {
        "id": "YqlGrPECvCsU",
        "colab": {
          "base_uri": "https://localhost:8080/"
        },
        "outputId": "a2783888-9108-45d5-c7b8-878b19172f10"
      },
      "source": [
        "fruits = [\"香蕉\",\"蘋果\",\"橘子\",\"鳳梨\",\"西瓜\"]\n",
        " \n",
        "while True:\n",
        "    fruit = input(\"請輸入喜歡的水果(Enter 結束)：\")\n",
        " \n",
        "  #  if (fruit==\"\"):\n",
        "  #      break\n",
        " \n",
        "    n = fruits.count(fruit) \n",
        "    if (n>0):  # 串列元素存在\n",
        "        p=fruits.index(fruit)\n",
        "        print(\"%s 在串列中的第 %d 項\" %(fruit,p+1))\n",
        "    else:\n",
        "        print(fruit,\"不在串列中!\")"
      ],
      "execution_count": null,
      "outputs": [
        {
          "output_type": "stream",
          "text": [
            "請輸入喜歡的水果(Enter 結束)：香蕉\n",
            "香蕉 在串列中的第 1 項\n",
            "請輸入喜歡的水果(Enter 結束)：蘋果\n",
            "蘋果 在串列中的第 2 項\n"
          ],
          "name": "stdout"
        }
      ]
    },
    {
      "cell_type": "markdown",
      "metadata": {
        "id": "2ZUsSavZfax9"
      },
      "source": [
        "# [5]continue 指令 \n",
        "```\n",
        "在廻圈執行中途暫時停住不往下執行，而跳到廻圈的起始處繼續執行\n",
        "```\n",
        "```\n",
        "撰寫一個可以排除數列中 5 的倍數的程式\n",
        "\n",
        "輸入::一個正整數 n\n",
        "輸出::\n",
        "使用者只要輸入一個正整數，\n",
        "程式會顯示由 1 到該整數的整數數列，但會將 5 的倍數排除\n",
        "```\n",
        "```\n",
        "n = int(input(\"請輸入正整數：\"))\n",
        "\n",
        "for i in range(1, n+1):\n",
        "    if i % 5 ==0:\n",
        "        continue\n",
        "    print(i,end=\" \")\n",
        "```"
      ]
    },
    {
      "cell_type": "code",
      "metadata": {
        "id": "HpBqMm0wwiuc"
      },
      "source": [
        "n = int(input(\"請輸入正整數：\"))\n",
        " \n",
        "for i in range(1, n+1):\n",
        "    if i % 5 ==0:\n",
        "        continue\n",
        "    print(i,end=\" \")"
      ],
      "execution_count": null,
      "outputs": []
    },
    {
      "cell_type": "markdown",
      "metadata": {
        "id": "eBEuRBWrfedb"
      },
      "source": [
        "### [程式設計題]\n",
        "```\n",
        "完成程式撰寫\n",
        "輸入一個正整數n\n",
        "列出小於n的 7倍數\n",
        "\n",
        "例如:輸入22\n",
        "輸出 7, 14, 21\n",
        "```"
      ]
    },
    {
      "cell_type": "code",
      "metadata": {
        "id": "NknBqXjXiVrk",
        "colab": {
          "base_uri": "https://localhost:8080/"
        },
        "outputId": "127d238f-a73a-4c85-9a07-967ca6b24604"
      },
      "source": [
        "n = int(input(\"請輸入正整數：\"))\n",
        " \n",
        "for i in range(1, n):\n",
        "    if i % 7 !=0:\n",
        "        continue\n",
        "    print(i,end=\" \")"
      ],
      "execution_count": null,
      "outputs": [
        {
          "output_type": "stream",
          "text": [
            "請輸入正整數：7\n"
          ],
          "name": "stdout"
        }
      ]
    },
    {
      "cell_type": "markdown",
      "metadata": {
        "id": "Wis8JxoMfphw"
      },
      "source": [
        "# 小小測驗:\n",
        "### [程式閱讀題] \n",
        "底下程式執行的結果為何?請說明其邏輯\n",
        "```\n",
        "#!/usr/bin/python\n",
        "# -*- coding: UTF-8 -*-\n",
        " \n",
        "for i in range(1,6):\n",
        "    for j in range(1,5):\n",
        "        for k in range(1,7):\n",
        "            if( i != k ) and (i != j) and (j != k):\n",
        "                print(i,j,k)\n",
        "```"
      ]
    },
    {
      "cell_type": "code",
      "metadata": {
        "id": "E90mQjN8w1xu"
      },
      "source": [
        "for i in range(1,6):\n",
        "    for j in range(1,5):\n",
        "        for k in range(1,7):\n",
        "            if( i != k ) and (i != j) and (j != k):\n",
        "                print(i,j,k)"
      ],
      "execution_count": null,
      "outputs": []
    },
    {
      "cell_type": "markdown",
      "metadata": {
        "id": "PSbI2uNcfrYf"
      },
      "source": [
        "底下程式執行結果為何?\n",
        "```\n",
        "for x in range(19):\n",
        "  print(x)\n",
        "```"
      ]
    },
    {
      "cell_type": "code",
      "metadata": {
        "id": "au7qZCijxIRR"
      },
      "source": [
        "for x in range(19):\n",
        "  print(x)"
      ],
      "execution_count": null,
      "outputs": []
    },
    {
      "cell_type": "markdown",
      "metadata": {
        "id": "R9iakcMAftmZ"
      },
      "source": [
        "底下程式執行後結果為何?\n",
        "```\n",
        "for x in range(0,19,2):\n",
        "  print(x)\n",
        "```"
      ]
    },
    {
      "cell_type": "code",
      "metadata": {
        "id": "Egtc04fYxfR7"
      },
      "source": [
        "for x in range(0,19,2):\n",
        "  print(x)"
      ],
      "execution_count": null,
      "outputs": []
    },
    {
      "cell_type": "markdown",
      "metadata": {
        "id": "djm4wUIqfv9O"
      },
      "source": [
        "底下程式執行後結果為何?\n",
        "```\n",
        "for x in range(20,11,-1):\n",
        "  print(x)\n",
        "```"
      ]
    },
    {
      "cell_type": "code",
      "metadata": {
        "id": "_PrEQ2JQxnaY"
      },
      "source": [
        "for x in range(20,11,-1):\n",
        "  print(x)"
      ],
      "execution_count": null,
      "outputs": []
    },
    {
      "cell_type": "markdown",
      "metadata": {
        "id": "3vt7kjm2fx2u"
      },
      "source": [
        "底下程式執行後結果為何?\n",
        "```\n",
        "for x in range(0,19,-1):\n",
        "  print(x)\n",
        "```"
      ]
    },
    {
      "cell_type": "code",
      "metadata": {
        "id": "LFqwdPBnxrjM"
      },
      "source": [
        "for x in range(0,19,-1):\n",
        "  print(x)"
      ],
      "execution_count": null,
      "outputs": []
    },
    {
      "cell_type": "markdown",
      "metadata": {
        "id": "8mHFGbUCf0yL"
      },
      "source": [
        "底下程式執行後結果為何?\n",
        "```\n",
        "output = ''\n",
        "\n",
        "for x in range(0,19,3):\n",
        "  output += str(x)\n",
        "  print(output, end=\" \")\n",
        "```"
      ]
    },
    {
      "cell_type": "code",
      "metadata": {
        "id": "huYK_XOextVa"
      },
      "source": [
        "output = ''\n",
        " \n",
        "for x in range(0,19,3):\n",
        "  output += str(x)\n",
        "  print(output, end=\" \")"
      ],
      "execution_count": null,
      "outputs": []
    },
    {
      "cell_type": "markdown",
      "metadata": {
        "id": "D1zJr61uf2ml"
      },
      "source": [
        "底下程式執行後結果為何?\n",
        "```\n",
        "output = ''\n",
        "\n",
        "for x in range(0,19,3):\n",
        "  print(x, end=\" \")\n",
        "```"
      ]
    },
    {
      "cell_type": "code",
      "metadata": {
        "id": "dIFuKrHxxzXJ"
      },
      "source": [
        "output = ''\n",
        " \n",
        "for x in range(0,19,3):\n",
        "  print(x, end=\" \")"
      ],
      "execution_count": null,
      "outputs": []
    },
    {
      "cell_type": "markdown",
      "metadata": {
        "id": "PCiNEpPxf4dH"
      },
      "source": [
        "底下程式執行後結果為何?\n",
        "```\n",
        "list1 = range(0,19,3)\n",
        "\n",
        "for x in list1:\n",
        "  print(x, end=\" \")\n",
        "```"
      ]
    },
    {
      "cell_type": "code",
      "metadata": {
        "id": "ZHLSHs-wx2CT"
      },
      "source": [
        "list1 = range(0,19,3)\n",
        " \n",
        "for x in list1:\n",
        "  print(x, end=\" \")"
      ],
      "execution_count": null,
      "outputs": []
    },
    {
      "cell_type": "markdown",
      "metadata": {
        "id": "qz9w1yVif72o"
      },
      "source": [
        "### [程式閱讀題] 下列程式輸入淨利潤為11111時請問輸出為何?\"\"\"\n",
        "```\n",
        "#!/usr/bin/python\n",
        "# -*- coding: UTF-8 -*-\n",
        " \n",
        "i = int(input('淨利潤:'))\n",
        "\n",
        "arr = [1000000,600000,400000,200000,100000,0]\n",
        "rat = [0.01,0.015,0.03,0.05,0.075,0.1]\n",
        "r = 0\n",
        "\n",
        "for idx in range(0,6):\n",
        "    if i>arr[idx]:\n",
        "        r+=(i-arr[idx])*rat[idx]\n",
        "        print((i-arr[idx])*rat[idx])\n",
        "        i=arr[idx]\n",
        "\n",
        "print(r)\n",
        "```"
      ]
    },
    {
      "cell_type": "markdown",
      "metadata": {
        "id": "scWOvtyYtoPZ"
      },
      "source": [
        "\n",
        "# [6]巢狀廻圈Nested Loop[自主學習主題]\n",
        "```\n",
        "廻圈中又包含廻圈的巢狀廻圈　\n",
        "\n",
        "留給你當作業：九九乘法表\n",
        "```"
      ]
    },
    {
      "cell_type": "code",
      "metadata": {
        "id": "ZF8fD2sKjpWn"
      },
      "source": [
        "for j in range(1,10):\n",
        "  for i in range(1,10):\n",
        "    print(\"%s * %s = %2d\" %(i, j, i * j), end = \"  \")\n",
        "  print()"
      ],
      "execution_count": null,
      "outputs": []
    }
  ]
}